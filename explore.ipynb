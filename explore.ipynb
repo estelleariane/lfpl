{
 "cells": [
  {
   "cell_type": "markdown",
   "metadata": {},
   "source": [
    "# Louisville Free Public Library\n",
    "\n",
    "Analysis of Louisville Free Public Library collection inventory.\n",
    "\n",
    "Data Source: [Louisville Metro Open Data](https://data.louisvilleky.gov/datasets/LOJIC::louisville-metro-ky-library-collection-inventory-/about)"
   ]
  }
 ],
 "metadata": {
  "kernelspec": {
   "display_name": "Python 3",
   "language": "python",
   "name": "python3"
  },
  "language_info": {
   "codemirror_mode": {
    "name": "ipython",
    "version": 3
   },
   "file_extension": ".py",
   "mimetype": "text/x-python",
   "name": "python",
   "nbconvert_exporter": "python",
   "pygments_lexer": "ipython3",
   "version": "3.11.1"
  },
  "orig_nbformat": 4,
  "vscode": {
   "interpreter": {
    "hash": "1247190561de22b149d2f85c991f587e8f2dc8e12864e6ff28835202fb0be897"
   }
  }
 },
 "nbformat": 4,
 "nbformat_minor": 2
}
